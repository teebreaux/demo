{
    "cells": [
        {
            "cell_type": "markdown",
            "metadata": {},
            "source": "# Description - Games"
        },
        {
            "cell_type": "code",
            "execution_count": 1,
            "metadata": {},
            "outputs": [
                {
                    "data": {
                        "text/html": "<div>\n<style scoped>\n    .dataframe tbody tr th:only-of-type {\n        vertical-align: middle;\n    }\n\n    .dataframe tbody tr th {\n        vertical-align: top;\n    }\n\n    .dataframe thead th {\n        text-align: right;\n    }\n</style>\n<table border=\"1\" class=\"dataframe\">\n  <thead>\n    <tr style=\"text-align: right;\">\n      <th></th>\n      <th>Global X Video Games &amp; Esports ETF</th>\n      <th>Unnamed: 1</th>\n      <th>Unnamed: 2</th>\n      <th>Unnamed: 3</th>\n      <th>Unnamed: 4</th>\n    </tr>\n  </thead>\n  <tbody>\n    <tr>\n      <th>0</th>\n      <td>Fund Holdings Data as of 12/27/2019</td>\n      <td>NaN</td>\n      <td>NaN</td>\n      <td>NaN</td>\n      <td>NaN</td>\n    </tr>\n    <tr>\n      <th>1</th>\n      <td>% of Net Assets</td>\n      <td>Name</td>\n      <td>Market Price ($)</td>\n      <td>Shares Held</td>\n      <td>Market Value ($)</td>\n    </tr>\n    <tr>\n      <th>2</th>\n      <td>6.706</td>\n      <td>NVIDIA CORP</td>\n      <td>236.87</td>\n      <td>462</td>\n      <td>109,433.94</td>\n    </tr>\n    <tr>\n      <th>3</th>\n      <td>6.325</td>\n      <td>ELECTRONIC ARTS INC</td>\n      <td>108.43</td>\n      <td>952</td>\n      <td>103,225.36</td>\n    </tr>\n    <tr>\n      <th>4</th>\n      <td>6.026</td>\n      <td>NINTENDO CO LTD</td>\n      <td>399.78</td>\n      <td>246</td>\n      <td>98,346.12</td>\n    </tr>\n  </tbody>\n</table>\n</div>",
                        "text/plain": "    Global X Video Games & Esports ETF           Unnamed: 1        Unnamed: 2  \\\n0  Fund Holdings Data as of 12/27/2019                  NaN               NaN   \n1                      % of Net Assets                 Name  Market Price ($)   \n2                                6.706          NVIDIA CORP            236.87   \n3                                6.325  ELECTRONIC ARTS INC            108.43   \n4                                6.026      NINTENDO CO LTD            399.78   \n\n    Unnamed: 3        Unnamed: 4  \n0          NaN               NaN  \n1  Shares Held  Market Value ($)  \n2          462        109,433.94  \n3          952        103,225.36  \n4          246         98,346.12  "
                    },
                    "execution_count": 1,
                    "metadata": {},
                    "output_type": "execute_result"
                }
            ],
            "source": "# The code was removed by Watson Studio for sharing."
        },
        {
            "cell_type": "code",
            "execution_count": null,
            "metadata": {},
            "outputs": [],
            "source": ""
        }
    ],
    "metadata": {
        "kernelspec": {
            "display_name": "Python 3.6",
            "language": "python",
            "name": "python3"
        },
        "language_info": {
            "codemirror_mode": {
                "name": "ipython",
                "version": 3
            },
            "file_extension": ".py",
            "mimetype": "text/x-python",
            "name": "python",
            "nbconvert_exporter": "python",
            "pygments_lexer": "ipython3",
            "version": "3.6.9"
        }
    },
    "nbformat": 4,
    "nbformat_minor": 1
}